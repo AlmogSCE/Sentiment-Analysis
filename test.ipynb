{
 "cells": [
  {
   "cell_type": "code",
   "execution_count": null,
   "metadata": {},
   "outputs": [],
   "source": [
    "import streamlit as st\n",
    "import tweepy\n",
    "import pandas as pd\n",
    "from datetime import datetime\n",
    "\n",
    "# Twitter API credentials (replace with your own credentials)\n",
    "API_KEY = 'WwzATB1ojJQCS8HLp2yw646d9'\n",
    "API_SECRET_KEY = 'lHM7C2dx4P0ijTHtXYBZIfJYerKVhR88G2zeivazBGUY80qyZE'\n",
    "ACCESS_TOKEN = '1812495700867035136-Fv9M9v3oCro0CnBzYppimuz35dCq8L'\n",
    "ACCESS_TOKEN_SECRET = 'fpCPYcg6XBIqcgUByFJ8PGdlf12CrU0zFhlkomMB6XWXc'\n",
    "\n",
    "# Set up the Twitter API client\n",
    "auth = tweepy.OAuthHandler(API_KEY, API_SECRET_KEY)\n",
    "auth.set_access_token(ACCESS_TOKEN, ACCESS_TOKEN_SECRET)\n",
    "api = tweepy.API(auth)\n",
    "\n",
    "# Streamlit date picker\n",
    "st.title(\"Twitter Date Picker\")\n",
    "selected_date = st.date_input(\"Pick a date\", datetime.today())\n",
    "\n",
    "# Convert the selected date to the appropriate format\n",
    "start_date = selected_date.strftime('%Y-%m-%d')\n",
    "end_date = (selected_date + pd.Timedelta(days=1)).strftime('%Y-%m-%d')\n",
    "\n",
    "if st.button(\"Query Tweets\"):\n",
    "    # Query 100 tweets from the selected date\n",
    "    tweets = tweepy.Cursor(api.search_tweets,\n",
    "                           q=\"*\",  # You can specify a keyword here or leave it as \"*\" to get all tweets\n",
    "                           lang=\"en\",\n",
    "                           since=start_date,\n",
    "                           until=end_date).items(100)\n",
    "\n",
    "    # Collect the tweets into a DataFrame\n",
    "    tweet_data = [[tweet.created_at, tweet.user.screen_name, tweet.text] for tweet in tweets]\n",
    "    df = pd.DataFrame(tweet_data, columns=['Date', 'User', 'Tweet'])\n",
    "\n",
    "    # Display the results\n",
    "    st.write(f\"Showing 100 tweets from {start_date}\")\n",
    "    st.dataframe(df)\n"
   ]
  }
 ],
 "metadata": {
  "language_info": {
   "name": "python"
  }
 },
 "nbformat": 4,
 "nbformat_minor": 2
}
